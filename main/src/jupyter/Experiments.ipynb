{
 "cells": [
  {
   "cell_type": "code",
   "execution_count": 14,
   "metadata": {},
   "outputs": [],
   "source": [
    "import pandas as pd\n",
    "from os import walk\n",
    "import os"
   ]
  },
  {
   "cell_type": "code",
   "execution_count": 21,
   "metadata": {},
   "outputs": [
    {
     "name": "stdout",
     "output_type": "stream",
     "text": [
      "Requirement already satisfied: yfinance in c:\\programdata\\anaconda3\\lib\\site-packages (0.1.55)\n",
      "Requirement already satisfied: pandas>=0.24 in c:\\programdata\\anaconda3\\lib\\site-packages (from yfinance) (1.0.5)\n",
      "Requirement already satisfied: numpy>=1.15 in c:\\users\\ramesre\\appdata\\roaming\\python\\python38\\site-packages (from yfinance) (1.20.1)\n",
      "Requirement already satisfied: multitasking>=0.0.7 in c:\\programdata\\anaconda3\\lib\\site-packages (from yfinance) (0.0.9)\n",
      "Requirement already satisfied: lxml>=4.5.1 in c:\\users\\ramesre\\appdata\\roaming\\python\\python38\\site-packages (from yfinance) (4.6.2)\n",
      "Requirement already satisfied: requests>=2.20 in c:\\programdata\\anaconda3\\lib\\site-packages (from yfinance) (2.24.0)\n",
      "Requirement already satisfied: python-dateutil>=2.6.1 in c:\\programdata\\anaconda3\\lib\\site-packages (from pandas>=0.24->yfinance) (2.8.1)\n",
      "Requirement already satisfied: pytz>=2017.2 in c:\\programdata\\anaconda3\\lib\\site-packages (from pandas>=0.24->yfinance) (2020.1)\n",
      "Requirement already satisfied: idna<3,>=2.5 in c:\\users\\ramesre\\appdata\\roaming\\python\\python38\\site-packages (from requests>=2.20->yfinance) (2.8)\n",
      "Requirement already satisfied: urllib3!=1.25.0,!=1.25.1,<1.26,>=1.21.1 in c:\\programdata\\anaconda3\\lib\\site-packages (from requests>=2.20->yfinance) (1.25.9)\n",
      "Requirement already satisfied: chardet<4,>=3.0.2 in c:\\programdata\\anaconda3\\lib\\site-packages (from requests>=2.20->yfinance) (3.0.4)\n",
      "Requirement already satisfied: certifi>=2017.4.17 in c:\\programdata\\anaconda3\\lib\\site-packages (from requests>=2.20->yfinance) (2020.6.20)\n",
      "Requirement already satisfied: six>=1.5 in c:\\programdata\\anaconda3\\lib\\site-packages (from python-dateutil>=2.6.1->pandas>=0.24->yfinance) (1.15.0)\n"
     ]
    }
   ],
   "source": [
    "!pip install yfinance --trusted-host pypi.org --trusted-host files.pythonhosted.org"
   ]
  },
  {
   "cell_type": "code",
   "execution_count": 22,
   "metadata": {},
   "outputs": [
    {
     "name": "stdout",
     "output_type": "stream",
     "text": [
      "Collecting pandas_ta\n",
      "  Using cached pandas_ta-0.2.45b.tar.gz (88 kB)\n",
      "Requirement already satisfied: pandas in c:\\programdata\\anaconda3\\lib\\site-packages (from pandas_ta) (1.0.5)\n",
      "Requirement already satisfied: pytz>=2017.2 in c:\\programdata\\anaconda3\\lib\\site-packages (from pandas->pandas_ta) (2020.1)\n",
      "Requirement already satisfied: python-dateutil>=2.6.1 in c:\\programdata\\anaconda3\\lib\\site-packages (from pandas->pandas_ta) (2.8.1)\n",
      "Requirement already satisfied: numpy>=1.13.3 in c:\\users\\ramesre\\appdata\\roaming\\python\\python38\\site-packages (from pandas->pandas_ta) (1.20.1)\n",
      "Requirement already satisfied: six>=1.5 in c:\\programdata\\anaconda3\\lib\\site-packages (from python-dateutil>=2.6.1->pandas->pandas_ta) (1.15.0)\n",
      "Building wheels for collected packages: pandas-ta\n",
      "  Building wheel for pandas-ta (setup.py): started\n",
      "  Building wheel for pandas-ta (setup.py): finished with status 'done'\n",
      "  Created wheel for pandas-ta: filename=pandas_ta-0.2.45b0-py3-none-any.whl size=175308 sha256=0834420411ea5981eca66c6564ac7aad6b5bdf6a919f6678636a94feeaa40c42\n",
      "  Stored in directory: c:\\users\\ramesre\\appdata\\local\\pip\\cache\\wheels\\02\\f6\\96\\09c888c53b185b0a86df45aa66f6abfc9d259e4c20edf13a5c\n",
      "Successfully built pandas-ta\n",
      "Installing collected packages: pandas-ta\n",
      "Successfully installed pandas-ta-0.2.45b0\n"
     ]
    }
   ],
   "source": [
    "!pip install pandas_ta --trusted-host pypi.org --trusted-host files.pythonhosted.org"
   ]
  },
  {
   "cell_type": "code",
   "execution_count": 23,
   "metadata": {},
   "outputs": [],
   "source": [
    "import pandas_ta as ta\n",
    "import yfinance as yf"
   ]
  },
  {
   "cell_type": "code",
   "execution_count": 41,
   "metadata": {},
   "outputs": [
    {
     "name": "stdout",
     "output_type": "stream",
     "text": [
      "['Unnamed: 0', 'date', 'open', 'high', 'low', 'close', 'adjClose', 'volume', 'unadjustedVolume', 'change', 'changePercent', 'vwap', 'label', 'changeOverTime']\n"
     ]
    },
    {
     "data": {
      "text/html": [
       "<div>\n",
       "<style scoped>\n",
       "    .dataframe tbody tr th:only-of-type {\n",
       "        vertical-align: middle;\n",
       "    }\n",
       "\n",
       "    .dataframe tbody tr th {\n",
       "        vertical-align: top;\n",
       "    }\n",
       "\n",
       "    .dataframe thead th {\n",
       "        text-align: right;\n",
       "    }\n",
       "</style>\n",
       "<table border=\"1\" class=\"dataframe\">\n",
       "  <thead>\n",
       "    <tr style=\"text-align: right;\">\n",
       "      <th></th>\n",
       "      <th>Unnamed: 0</th>\n",
       "      <th>Unnamed: 0.1</th>\n",
       "      <th>date</th>\n",
       "      <th>open</th>\n",
       "      <th>high</th>\n",
       "      <th>low</th>\n",
       "      <th>close</th>\n",
       "      <th>adjClose</th>\n",
       "      <th>volume</th>\n",
       "      <th>unadjustedVolume</th>\n",
       "      <th>...</th>\n",
       "      <th>STOCHk_14_3_3</th>\n",
       "      <th>STOCHd_14_3_3</th>\n",
       "      <th>RSI_14</th>\n",
       "      <th>MACD_12_26_9</th>\n",
       "      <th>MACDh_12_26_9</th>\n",
       "      <th>MACDs_12_26_9</th>\n",
       "      <th>WILLR_14</th>\n",
       "      <th>ADOSC_3_10</th>\n",
       "      <th>CCI_14_0.015</th>\n",
       "      <th>MOM_10</th>\n",
       "    </tr>\n",
       "  </thead>\n",
       "  <tbody>\n",
       "    <tr>\n",
       "      <th>0</th>\n",
       "      <td>1257</td>\n",
       "      <td>1257</td>\n",
       "      <td>2016-05-02</td>\n",
       "      <td>10.80</td>\n",
       "      <td>11.08</td>\n",
       "      <td>10.71</td>\n",
       "      <td>11.07</td>\n",
       "      <td>7.030635</td>\n",
       "      <td>380900.0</td>\n",
       "      <td>380900.0</td>\n",
       "      <td>...</td>\n",
       "      <td>NaN</td>\n",
       "      <td>NaN</td>\n",
       "      <td>NaN</td>\n",
       "      <td>NaN</td>\n",
       "      <td>NaN</td>\n",
       "      <td>NaN</td>\n",
       "      <td>NaN</td>\n",
       "      <td>NaN</td>\n",
       "      <td>NaN</td>\n",
       "      <td>NaN</td>\n",
       "    </tr>\n",
       "    <tr>\n",
       "      <th>1</th>\n",
       "      <td>1256</td>\n",
       "      <td>1256</td>\n",
       "      <td>2016-05-03</td>\n",
       "      <td>10.99</td>\n",
       "      <td>10.99</td>\n",
       "      <td>10.70</td>\n",
       "      <td>10.92</td>\n",
       "      <td>6.935369</td>\n",
       "      <td>217300.0</td>\n",
       "      <td>217300.0</td>\n",
       "      <td>...</td>\n",
       "      <td>NaN</td>\n",
       "      <td>NaN</td>\n",
       "      <td>NaN</td>\n",
       "      <td>NaN</td>\n",
       "      <td>NaN</td>\n",
       "      <td>NaN</td>\n",
       "      <td>NaN</td>\n",
       "      <td>NaN</td>\n",
       "      <td>NaN</td>\n",
       "      <td>NaN</td>\n",
       "    </tr>\n",
       "    <tr>\n",
       "      <th>2</th>\n",
       "      <td>1255</td>\n",
       "      <td>1255</td>\n",
       "      <td>2016-05-04</td>\n",
       "      <td>10.85</td>\n",
       "      <td>11.08</td>\n",
       "      <td>10.85</td>\n",
       "      <td>11.04</td>\n",
       "      <td>7.011583</td>\n",
       "      <td>288000.0</td>\n",
       "      <td>288000.0</td>\n",
       "      <td>...</td>\n",
       "      <td>NaN</td>\n",
       "      <td>NaN</td>\n",
       "      <td>NaN</td>\n",
       "      <td>NaN</td>\n",
       "      <td>NaN</td>\n",
       "      <td>NaN</td>\n",
       "      <td>NaN</td>\n",
       "      <td>NaN</td>\n",
       "      <td>NaN</td>\n",
       "      <td>NaN</td>\n",
       "    </tr>\n",
       "    <tr>\n",
       "      <th>3</th>\n",
       "      <td>1254</td>\n",
       "      <td>1254</td>\n",
       "      <td>2016-05-05</td>\n",
       "      <td>11.07</td>\n",
       "      <td>11.27</td>\n",
       "      <td>10.86</td>\n",
       "      <td>11.03</td>\n",
       "      <td>7.005231</td>\n",
       "      <td>452200.0</td>\n",
       "      <td>452200.0</td>\n",
       "      <td>...</td>\n",
       "      <td>NaN</td>\n",
       "      <td>NaN</td>\n",
       "      <td>NaN</td>\n",
       "      <td>NaN</td>\n",
       "      <td>NaN</td>\n",
       "      <td>NaN</td>\n",
       "      <td>NaN</td>\n",
       "      <td>NaN</td>\n",
       "      <td>NaN</td>\n",
       "      <td>NaN</td>\n",
       "    </tr>\n",
       "    <tr>\n",
       "      <th>4</th>\n",
       "      <td>1253</td>\n",
       "      <td>1253</td>\n",
       "      <td>2016-05-06</td>\n",
       "      <td>10.98</td>\n",
       "      <td>11.33</td>\n",
       "      <td>10.98</td>\n",
       "      <td>11.33</td>\n",
       "      <td>7.195762</td>\n",
       "      <td>500600.0</td>\n",
       "      <td>500600.0</td>\n",
       "      <td>...</td>\n",
       "      <td>NaN</td>\n",
       "      <td>NaN</td>\n",
       "      <td>NaN</td>\n",
       "      <td>NaN</td>\n",
       "      <td>NaN</td>\n",
       "      <td>NaN</td>\n",
       "      <td>NaN</td>\n",
       "      <td>NaN</td>\n",
       "      <td>NaN</td>\n",
       "      <td>NaN</td>\n",
       "    </tr>\n",
       "  </tbody>\n",
       "</table>\n",
       "<p>5 rows × 27 columns</p>\n",
       "</div>"
      ],
      "text/plain": [
       "   Unnamed: 0  Unnamed: 0.1        date   open   high    low  close  adjClose  \\\n",
       "0        1257          1257  2016-05-02  10.80  11.08  10.71  11.07  7.030635   \n",
       "1        1256          1256  2016-05-03  10.99  10.99  10.70  10.92  6.935369   \n",
       "2        1255          1255  2016-05-04  10.85  11.08  10.85  11.04  7.011583   \n",
       "3        1254          1254  2016-05-05  11.07  11.27  10.86  11.03  7.005231   \n",
       "4        1253          1253  2016-05-06  10.98  11.33  10.98  11.33  7.195762   \n",
       "\n",
       "     volume  unadjustedVolume  ...  STOCHk_14_3_3  STOCHd_14_3_3  RSI_14  \\\n",
       "0  380900.0          380900.0  ...            NaN            NaN     NaN   \n",
       "1  217300.0          217300.0  ...            NaN            NaN     NaN   \n",
       "2  288000.0          288000.0  ...            NaN            NaN     NaN   \n",
       "3  452200.0          452200.0  ...            NaN            NaN     NaN   \n",
       "4  500600.0          500600.0  ...            NaN            NaN     NaN   \n",
       "\n",
       "  MACD_12_26_9  MACDh_12_26_9  MACDs_12_26_9  WILLR_14  ADOSC_3_10  \\\n",
       "0          NaN            NaN            NaN       NaN         NaN   \n",
       "1          NaN            NaN            NaN       NaN         NaN   \n",
       "2          NaN            NaN            NaN       NaN         NaN   \n",
       "3          NaN            NaN            NaN       NaN         NaN   \n",
       "4          NaN            NaN            NaN       NaN         NaN   \n",
       "\n",
       "   CCI_14_0.015  MOM_10  \n",
       "0           NaN     NaN  \n",
       "1           NaN     NaN  \n",
       "2           NaN     NaN  \n",
       "3           NaN     NaN  \n",
       "4           NaN     NaN  \n",
       "\n",
       "[5 rows x 27 columns]"
      ]
     },
     "execution_count": 41,
     "metadata": {},
     "output_type": "execute_result"
    }
   ],
   "source": [
    "data = pd.read_csv(\"SNR_TI.csv\")\n",
    "data_raw = pd.read_csv(\"SNR.csv\")\n",
    "columns_raw = list(data_raw.columns)\n",
    "print(columns_raw)\n",
    "data.head()"
   ]
  },
  {
   "cell_type": "code",
   "execution_count": 45,
   "metadata": {},
   "outputs": [
    {
     "name": "stdout",
     "output_type": "stream",
     "text": [
      "['Unnamed: 0.1', 'MACDs_12_26_9', 'MACD_12_26_9', 'WILLR_14', 'RSI_14', 'STOCHk_14_3_3', 'SMA_20', 'ADOSC_3_10', 'MOM_10', 'FWMA_20', 'STOCHd_14_3_3', 'MACDh_12_26_9', 'CCI_14_0.015']\n"
     ]
    }
   ],
   "source": [
    "#data = data.sort_values(by=\"date\", ascending=False)\n",
    "## Creating lagged TI\n",
    "\n",
    "columns_TI = list(set(data.columns) - set(columns_raw))\n",
    "print(columns_TI)\n",
    "data_lagged = data.copy()\n",
    "\n",
    "trailing_window_size = 1\n",
    "\n",
    "for window in range(1, trailing_window_size + 1):\n",
    "    shifted = data[columns_TI].shift(window)\n",
    "    shifted.columns = [x + \"_lag\" + str(window) for x in columns_TI]\n",
    "    \n",
    "    data_lagged = pd.concat((data_lagged, shifted), axis=1)\n",
    "    \n",
    "list(data_lagged.columns)\n",
    "data_lagged.head()\n",
    "    \n",
    "data_lagged.to_csv(\"lag_test.csv\")"
   ]
  },
  {
   "cell_type": "code",
   "execution_count": 48,
   "metadata": {},
   "outputs": [],
   "source": [
    "def create_lagged_features(df, columns, trailing_window = 1):\n",
    "\n",
    "    data_lagged = df.copy()\n",
    "    for window in range(1, trailing_window + 1):\n",
    "        shifted = df[columns].shift(window)\n",
    "        shifted.columns = [x + \"_lag\" + str(window) for x in columns]\n",
    "        data_lagged = pd.concat((data_lagged, shifted), axis=1)\n",
    "\n",
    "    return data_lagged\n",
    "\n",
    "\n",
    "file = \"SNR_TI.csv\"\n",
    "\n",
    "ticker = file.replace(\"_TI.csv\", \"\")\n",
    "data = pd.read_csv(file)\n",
    "\n",
    "columns_TI = ['MACDs_12_26_9', 'MACD_12_26_9', 'WILLR_14', 'RSI_14', 'STOCHk_14_3_3',\n",
    "              'SMA_20', 'ADOSC_3_10', 'MOM_10', 'FWMA_20', 'STOCHd_14_3_3',\n",
    "              'MACDh_12_26_9', 'CCI_14_0.015'] # Edit this while creating the final code\n",
    "\n",
    "data_TI_lagged = create_lagged_features(data,columns_TI)\n",
    "\n",
    "raw_columns_analysis = [\"close\", \"volume\", \"changePercent\", \"vwap\", \"changeOverTime\"]\n",
    "data_TI_raw_lagged = create_lagged_features(data_TI_lagged, raw_columns_analysis, 45)\n",
    "\n",
    "data_TI_raw_lagged[\"ticker\"] = ticker\n",
    "\n",
    "data_TI_raw_lagged.to_csv(\"lag_test.csv\")\n"
   ]
  },
  {
   "cell_type": "code",
   "execution_count": 18,
   "metadata": {},
   "outputs": [],
   "source": [
    "from os import walk\n",
    "a, b, filenames = next(walk(os.getcwd()))"
   ]
  },
  {
   "cell_type": "code",
   "execution_count": 20,
   "metadata": {},
   "outputs": [
    {
     "data": {
      "text/plain": [
       "['.ipynb_checkpoints']"
      ]
     },
     "execution_count": 20,
     "metadata": {},
     "output_type": "execute_result"
    }
   ],
   "source": [
    "b"
   ]
  },
  {
   "cell_type": "code",
   "execution_count": 9,
   "metadata": {},
   "outputs": [],
   "source": [
    "def correlation(dataset, threshold, threshold_low):\n",
    "    col_corr = set() # Set of all the names of deleted columns\n",
    "    corr_matrix = dataset.corr()\n",
    "    for i in range(len(corr_matrix.columns)):\n",
    "        for j in range(i):\n",
    "            if ((corr_matrix.iloc[i, j] >= threshold or corr_matrix.iloc[i, j] <= threshold_low ) and (corr_matrix.columns[j] not in col_corr)):\n",
    "                colname = corr_matrix.columns[i] # getting the name of column\n",
    "                col_corr.add(colname)\n",
    "                if colname in dataset.columns:\n",
    "                    del dataset[colname] # deleting the column from the dataset\n",
    "\n",
    "    return dataset"
   ]
  },
  {
   "cell_type": "code",
   "execution_count": 12,
   "metadata": {},
   "outputs": [],
   "source": [
    "data_removed = correlation(data,0.7,-0.7)\n",
    "data_removed.to_csv(\"corr_removed.csv\")"
   ]
  }
 ],
 "metadata": {
  "kernelspec": {
   "display_name": "Python 3",
   "language": "python",
   "name": "python3"
  },
  "language_info": {
   "codemirror_mode": {
    "name": "ipython",
    "version": 3
   },
   "file_extension": ".py",
   "mimetype": "text/x-python",
   "name": "python",
   "nbconvert_exporter": "python",
   "pygments_lexer": "ipython3",
   "version": "3.8.3"
  }
 },
 "nbformat": 4,
 "nbformat_minor": 4
}
